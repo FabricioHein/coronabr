{
 "cells": [
  {
   "cell_type": "code",
   "execution_count": 5,
   "metadata": {},
   "outputs": [],
   "source": [
    "# Importa as bibliotecas necessárias\n",
    "import wget\n",
    "import pandas as pd\n",
    "import json\n",
    "import datetime\n",
    "from pandas.io.json import json_normalize"
   ]
  },
  {
   "cell_type": "code",
   "execution_count": 27,
   "metadata": {},
   "outputs": [],
   "source": [
    "# Define os dados para download\n",
    "url = 'http://plataforma.saude.gov.br/novocoronavirus/resources/scripts/'\n",
    "arquivo = 'database.js'"
   ]
  },
  {
   "cell_type": "code",
   "execution_count": null,
   "metadata": {},
   "outputs": [],
   "source": [
    "# Baixa o arquivo JS\n",
    "wget.download(url + arquivo, arquivo)"
   ]
  },
  {
   "cell_type": "code",
   "execution_count": 28,
   "metadata": {},
   "outputs": [],
   "source": [
    "# Converte o arquivo JavaScript para JSON\n",
    "base_js = open(arquivo, \"rt\")\n",
    "base_json = open(\"database.json\", \"wt\")\n",
    "\n",
    "for line in base_js:\n",
    "\tbase_json.write(line.replace('var database=', ''))\n",
    "\n",
    "base_js.close()\n",
    "base_json.close()"
   ]
  },
  {
   "cell_type": "code",
   "execution_count": 34,
   "metadata": {},
   "outputs": [
    {
     "data": {
      "text/plain": [
       "145    23\n",
       "146    31\n",
       "147    33\n",
       "148    35\n",
       "149    41\n",
       "150    42\n",
       "151    43\n",
       "152    53\n",
       "Name: uid, dtype: object"
      ]
     },
     "execution_count": 34,
     "metadata": {},
     "output_type": "execute_result"
    }
   ],
   "source": [
    "# Exporta o dataframe\n",
    "df = json.load(open('database.json'))\n",
    "df = json_normalize(data=df['brazil'], record_path='values',meta=['date','time'])\n",
    "df.uid[df.date == '18/02/2020']"
   ]
  },
  {
   "cell_type": "code",
   "execution_count": 46,
   "metadata": {},
   "outputs": [],
   "source": [
    "# Insere o nome dos estados\n",
    "indice = pd.read_csv('indice.csv')\n",
    "\n",
    "# Transforma a ID em string\n",
    "df.uid = df.uid.astype(str)\n",
    "indice.uid = indice.uid.astype(str)\n",
    "\n",
    "# Junta as UFs nos dados\n",
    "df = pd.merge(df, indice, on='uid', how='left')"
   ]
  },
  {
   "cell_type": "code",
   "execution_count": 47,
   "metadata": {},
   "outputs": [],
   "source": [
    "# Transforma números em inteiros\n",
    "dados_numericos = ['suspects', 'refuses', 'confirmado', 'deads','cases']\n",
    "\n",
    "for coluna in dados_numericos:\n",
    "    df[coluna] = df[coluna].fillna(0)\n",
    "    df[coluna] = df[coluna].astype(int)"
   ]
  },
  {
   "cell_type": "code",
   "execution_count": 48,
   "metadata": {},
   "outputs": [],
   "source": [
    "# Exporta a base em CSV com a data da execução no nome do arquivo\n",
    "agora = str(datetime.date.today()).replace(\" \", \"\").replace(\":\", \"-\").replace(\".\", \"-\")\n",
    "dados = 'dados/coronabr_' + agora + '.csv'\n",
    "df.to_csv(dados, index = False)"
   ]
  }
 ],
 "metadata": {
  "kernelspec": {
   "display_name": "Python 3",
   "language": "python",
   "name": "python3"
  },
  "language_info": {
   "codemirror_mode": {
    "name": "ipython",
    "version": 3
   },
   "file_extension": ".py",
   "mimetype": "text/x-python",
   "name": "python",
   "nbconvert_exporter": "python",
   "pygments_lexer": "ipython3",
   "version": "3.6.9"
  }
 },
 "nbformat": 4,
 "nbformat_minor": 2
}
