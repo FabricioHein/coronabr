{
 "cells": [
  {
   "cell_type": "code",
   "execution_count": 1,
   "metadata": {},
   "outputs": [],
   "source": [
    "import wget\n",
    "import pandas as pd\n",
    "import json\n",
    "import datetime\n",
    "from pandas.io.json import json_normalize"
   ]
  },
  {
   "cell_type": "code",
   "execution_count": 4,
   "metadata": {},
   "outputs": [
    {
     "data": {
      "text/plain": [
       "'database.js'"
      ]
     },
     "execution_count": 4,
     "metadata": {},
     "output_type": "execute_result"
    }
   ],
   "source": [
    "# Baixa o arquivo JS\n",
    "url = 'http://plataforma.saude.gov.br/novocoronavirus/resources/scripts/'\n",
    "arquivo = 'database.js'\n",
    "wget.download(url + arquivo, arquivo)"
   ]
  },
  {
   "cell_type": "code",
   "execution_count": 6,
   "metadata": {},
   "outputs": [],
   "source": [
    "# Converte Js para Json\n",
    "base_js = open(arquivo, \"rt\")\n",
    "base_json = open(\"database.json\", \"wt\")\n",
    "\n",
    "for line in base_js:\n",
    "\tbase_json.write(line.replace('var database=', ''))\n",
    "\n",
    "base_js.close()\n",
    "base_json.close()"
   ]
  },
  {
   "cell_type": "code",
   "execution_count": 18,
   "metadata": {},
   "outputs": [],
   "source": [
    "# Exporta o dataframe e insere nome dos estados\n",
    "df = json.load(open('database.json'))\n",
    "df = json_normalize(data=df['brazil'], record_path='values',meta=['date','time'])\n",
    "indice = pd.read_csv('indice.csv')\n",
    "df = pd.merge(df, indice, on='uid', how='left')"
   ]
  },
  {
   "cell_type": "code",
   "execution_count": 19,
   "metadata": {},
   "outputs": [],
   "source": [
    "# Exporta a base em CSV com a data da execução no nome do arquivo\n",
    "agora = str(datetime.date.today()).replace(\" \", \"\").replace(\":\", \"-\").replace(\".\", \"-\")\n",
    "arquivo = 'dados/coronabr_' + agora + '.csv'\n",
    "df.to_csv(arquivo)"
   ]
  }
 ],
 "metadata": {
  "kernelspec": {
   "display_name": "Python 3",
   "language": "python",
   "name": "python3"
  },
  "language_info": {
   "codemirror_mode": {
    "name": "ipython",
    "version": 3
   },
   "file_extension": ".py",
   "mimetype": "text/x-python",
   "name": "python",
   "nbconvert_exporter": "python",
   "pygments_lexer": "ipython3",
   "version": "3.6.9"
  }
 },
 "nbformat": 4,
 "nbformat_minor": 2
}
